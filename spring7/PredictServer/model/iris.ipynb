{
 "cells": [
  {
   "cell_type": "code",
   "execution_count": 13,
   "id": "b4f1cdd4-3dd9-42aa-ac43-0a940e1bb819",
   "metadata": {},
   "outputs": [
    {
     "name": "stdout",
     "output_type": "stream",
     "text": [
      "결과:  ['setosa']\n"
     ]
    }
   ],
   "source": [
    "# package import\n",
    "import pandas as pd \n",
    "import pickle\n",
    "\n",
    "from sklearn.datasets import load_iris\n",
    "from sklearn.neighbors import KNeighborsClassifier\n",
    "from sklearn.model_selection import train_test_split\n",
    "from sklearn.metrics import accuracy_score\n",
    "\n",
    "# 데이터 불러오기 \n",
    "iris = load_iris()\n",
    "\n",
    "# 데이터프레임 만들기 \n",
    "iris_df = pd.DataFrame(iris['data'], columns=iris['feature_names'])\n",
    "target = iris['target_names']\n",
    "\n",
    "# 데이터 분할 \n",
    "x, y = load_iris(return_X_y=True)\n",
    "x_train, x_test, y_train, y_test = train_test_split(x, y, test_size=0.3 \n",
    "                                                     , random_state=100, stratify=y)\n",
    "\n",
    "# 모델 생성 및 학습 \n",
    "model = KNeighborsClassifier(n_neighbors=3)\n",
    "model.fit(x_train, y_train)\n",
    "\n",
    "# 예측 및 평가\n",
    "y_hat = model.predict(x_test)\n",
    "accuracy_score(y_test, y_hat)\n",
    "\n",
    "# 데이터 입력하여 결과 확인 : 5.1\t3.5\t1.4\t0.2\n",
    "pred = model.predict([[5.1, 3.5, 1.4, 0.2]])\n",
    "print('결과: ', target[pred])\n",
    "\n",
    "# 파일로 저장 \n",
    "with open('data.pickle', 'wb') as f:\n",
    "    pickle.dump(model, f, pickle.HIGHEST_PROTOCOL)"
   ]
  },
  {
   "cell_type": "code",
   "execution_count": null,
   "id": "0563f2e2-1a4f-4f4f-bd42-bac37cdfb8ce",
   "metadata": {},
   "outputs": [],
   "source": []
  }
 ],
 "metadata": {
  "kernelspec": {
   "display_name": "Python 3 (ipykernel)",
   "language": "python",
   "name": "python3"
  },
  "language_info": {
   "codemirror_mode": {
    "name": "ipython",
    "version": 3
   },
   "file_extension": ".py",
   "mimetype": "text/x-python",
   "name": "python",
   "nbconvert_exporter": "python",
   "pygments_lexer": "ipython3",
   "version": "3.11.5"
  }
 },
 "nbformat": 4,
 "nbformat_minor": 5
}
